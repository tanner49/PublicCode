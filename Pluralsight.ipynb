{
 "cells": [
  {
   "cell_type": "code",
   "execution_count": 333,
   "metadata": {},
   "outputs": [],
   "source": [
    "import pandas as pd\n",
    "import seaborn as sns\n",
    "import statsmodels.api as sm"
   ]
  },
  {
   "cell_type": "code",
   "execution_count": 334,
   "metadata": {},
   "outputs": [
    {
     "data": {
      "text/html": [
       "<div>\n",
       "<style scoped>\n",
       "    .dataframe tbody tr th:only-of-type {\n",
       "        vertical-align: middle;\n",
       "    }\n",
       "\n",
       "    .dataframe tbody tr th {\n",
       "        vertical-align: top;\n",
       "    }\n",
       "\n",
       "    .dataframe thead th {\n",
       "        text-align: right;\n",
       "    }\n",
       "</style>\n",
       "<table border=\"1\" class=\"dataframe\">\n",
       "  <thead>\n",
       "    <tr style=\"text-align: right;\">\n",
       "      <th></th>\n",
       "      <th>age</th>\n",
       "      <th>weight</th>\n",
       "      <th>bmi</th>\n",
       "      <th>blood_pressure</th>\n",
       "      <th>insulin_test</th>\n",
       "      <th>liver_stress_test</th>\n",
       "      <th>cardio_stress_test</th>\n",
       "      <th>years_smoking</th>\n",
       "      <th>zeta_disease</th>\n",
       "    </tr>\n",
       "  </thead>\n",
       "  <tbody>\n",
       "    <tr>\n",
       "      <th>0</th>\n",
       "      <td>54</td>\n",
       "      <td>189</td>\n",
       "      <td>27.1</td>\n",
       "      <td>80</td>\n",
       "      <td>0</td>\n",
       "      <td>1.5038</td>\n",
       "      <td>0</td>\n",
       "      <td>10</td>\n",
       "      <td>0</td>\n",
       "    </tr>\n",
       "    <tr>\n",
       "      <th>1</th>\n",
       "      <td>23</td>\n",
       "      <td>150</td>\n",
       "      <td>38.5</td>\n",
       "      <td>68</td>\n",
       "      <td>71</td>\n",
       "      <td>0.3868</td>\n",
       "      <td>55</td>\n",
       "      <td>2</td>\n",
       "      <td>0</td>\n",
       "    </tr>\n",
       "    <tr>\n",
       "      <th>2</th>\n",
       "      <td>47</td>\n",
       "      <td>186</td>\n",
       "      <td>29.9</td>\n",
       "      <td>90</td>\n",
       "      <td>0</td>\n",
       "      <td>0.2728</td>\n",
       "      <td>0</td>\n",
       "      <td>7</td>\n",
       "      <td>0</td>\n",
       "    </tr>\n",
       "    <tr>\n",
       "      <th>3</th>\n",
       "      <td>18</td>\n",
       "      <td>150</td>\n",
       "      <td>30.8</td>\n",
       "      <td>70</td>\n",
       "      <td>1033</td>\n",
       "      <td>0.6598</td>\n",
       "      <td>56</td>\n",
       "      <td>0</td>\n",
       "      <td>0</td>\n",
       "    </tr>\n",
       "    <tr>\n",
       "      <th>4</th>\n",
       "      <td>24</td>\n",
       "      <td>160</td>\n",
       "      <td>32.4</td>\n",
       "      <td>74</td>\n",
       "      <td>125</td>\n",
       "      <td>0.7608</td>\n",
       "      <td>59</td>\n",
       "      <td>2</td>\n",
       "      <td>0</td>\n",
       "    </tr>\n",
       "    <tr>\n",
       "      <th>...</th>\n",
       "      <td>...</td>\n",
       "      <td>...</td>\n",
       "      <td>...</td>\n",
       "      <td>...</td>\n",
       "      <td>...</td>\n",
       "      <td>...</td>\n",
       "      <td>...</td>\n",
       "      <td>...</td>\n",
       "      <td>...</td>\n",
       "    </tr>\n",
       "    <tr>\n",
       "      <th>795</th>\n",
       "      <td>26</td>\n",
       "      <td>161</td>\n",
       "      <td>28.4</td>\n",
       "      <td>90</td>\n",
       "      <td>78</td>\n",
       "      <td>0.5578</td>\n",
       "      <td>42</td>\n",
       "      <td>3</td>\n",
       "      <td>0</td>\n",
       "    </tr>\n",
       "    <tr>\n",
       "      <th>796</th>\n",
       "      <td>37</td>\n",
       "      <td>165</td>\n",
       "      <td>33.7</td>\n",
       "      <td>60</td>\n",
       "      <td>0</td>\n",
       "      <td>0.3078</td>\n",
       "      <td>69</td>\n",
       "      <td>6</td>\n",
       "      <td>1</td>\n",
       "    </tr>\n",
       "    <tr>\n",
       "      <th>797</th>\n",
       "      <td>27</td>\n",
       "      <td>166</td>\n",
       "      <td>25.6</td>\n",
       "      <td>74</td>\n",
       "      <td>0</td>\n",
       "      <td>0.2638</td>\n",
       "      <td>0</td>\n",
       "      <td>5</td>\n",
       "      <td>0</td>\n",
       "    </tr>\n",
       "    <tr>\n",
       "      <th>798</th>\n",
       "      <td>109</td>\n",
       "      <td>139</td>\n",
       "      <td>28.1</td>\n",
       "      <td>66</td>\n",
       "      <td>94</td>\n",
       "      <td>0.2298</td>\n",
       "      <td>53</td>\n",
       "      <td>1</td>\n",
       "      <td>0</td>\n",
       "    </tr>\n",
       "    <tr>\n",
       "      <th>799</th>\n",
       "      <td>26</td>\n",
       "      <td>196</td>\n",
       "      <td>29.7</td>\n",
       "      <td>56</td>\n",
       "      <td>0</td>\n",
       "      <td>0.6268</td>\n",
       "      <td>0</td>\n",
       "      <td>1</td>\n",
       "      <td>0</td>\n",
       "    </tr>\n",
       "  </tbody>\n",
       "</table>\n",
       "<p>800 rows × 9 columns</p>\n",
       "</div>"
      ],
      "text/plain": [
       "     age  weight   bmi  blood_pressure  insulin_test  liver_stress_test  \\\n",
       "0     54     189  27.1              80             0             1.5038   \n",
       "1     23     150  38.5              68            71             0.3868   \n",
       "2     47     186  29.9              90             0             0.2728   \n",
       "3     18     150  30.8              70          1033             0.6598   \n",
       "4     24     160  32.4              74           125             0.7608   \n",
       "..   ...     ...   ...             ...           ...                ...   \n",
       "795   26     161  28.4              90            78             0.5578   \n",
       "796   37     165  33.7              60             0             0.3078   \n",
       "797   27     166  25.6              74             0             0.2638   \n",
       "798  109     139  28.1              66            94             0.2298   \n",
       "799   26     196  29.7              56             0             0.6268   \n",
       "\n",
       "     cardio_stress_test  years_smoking  zeta_disease  \n",
       "0                     0             10             0  \n",
       "1                    55              2             0  \n",
       "2                     0              7             0  \n",
       "3                    56              0             0  \n",
       "4                    59              2             0  \n",
       "..                  ...            ...           ...  \n",
       "795                  42              3             0  \n",
       "796                  69              6             1  \n",
       "797                   0              5             0  \n",
       "798                  53              1             0  \n",
       "799                   0              1             0  \n",
       "\n",
       "[800 rows x 9 columns]"
      ]
     },
     "execution_count": 334,
     "metadata": {},
     "output_type": "execute_result"
    }
   ],
   "source": [
    "train_dat = pd.read_csv(\"recruiting_zeta-disease_training-data_take-home-challenge - 2021_zeta-disease_training-data_take-home-challenge.csv\")\n",
    "train_dat"
   ]
  },
  {
   "cell_type": "markdown",
   "metadata": {},
   "source": [
    "Peaking at the data we can see that we have some missing data we need to remove (if you have a blood sugar level, blood pressure, or bmi of 0 you are most likely dead). "
   ]
  },
  {
   "cell_type": "code",
   "execution_count": 335,
   "metadata": {},
   "outputs": [],
   "source": [
    "train_dat = train_dat[train_dat.weight != 0]\n",
    "train_dat = train_dat[train_dat.bmi!= 0]\n",
    "train_dat = train_dat[train_dat.blood_pressure != 0]\n",
    "train_dat = train_dat[train_dat.cardio_stress_test != 0]\n",
    "train_dat = train_dat[train_dat.insulin_test != 0]\n",
    "train_dat = train_dat[train_dat.liver_stress_test != 0]\n",
    "train_dat = sm.add_constant(train_dat)\n",
    "\n",
    "x_train = train_dat.iloc[:,0:9]\n",
    "y_train = train_dat[\"zeta_disease\"]\n"
   ]
  },
  {
   "cell_type": "code",
   "execution_count": 336,
   "metadata": {},
   "outputs": [
    {
     "data": {
      "text/plain": [
       "[Text(0.5, 0, 'const'),\n",
       " Text(1.5, 0, 'age'),\n",
       " Text(2.5, 0, 'weight'),\n",
       " Text(3.5, 0, 'bmi'),\n",
       " Text(4.5, 0, 'blood_pressure'),\n",
       " Text(5.5, 0, 'insulin_test'),\n",
       " Text(6.5, 0, 'liver_stress_test'),\n",
       " Text(7.5, 0, 'cardio_stress_test'),\n",
       " Text(8.5, 0, 'years_smoking'),\n",
       " Text(9.5, 0, 'zeta_disease')]"
      ]
     },
     "execution_count": 336,
     "metadata": {},
     "output_type": "execute_result"
    },
    {
     "data": {
      "image/png": "[encoded data removed]",
      "text/plain": [
       "<Figure size 432x288 with 2 Axes>"
      ]
     },
     "metadata": {
      "needs_background": "light"
     },
     "output_type": "display_data"
    }
   ],
   "source": [
    "corr = train_dat.corr()\n",
    "ax = sns.heatmap(\n",
    "    corr, \n",
    "    vmin=-1, vmax=1, center=0,\n",
    "    cmap=sns.diverging_palette(20, 220, n=200),\n",
    "    square=True\n",
    ")\n",
    "ax.set_xticklabels(\n",
    "    ax.get_xticklabels(),\n",
    "    rotation=45,\n",
    "    horizontalalignment='right'\n",
    ")"
   ]
  },
  {
   "cell_type": "markdown",
   "metadata": {},
   "source": [
    "The initial exploration of the data suggests some moderate correlations with a number of variables, especially weight. Nothing stands out as particularly troublesome as far as covaraince between predictors. The covariance between predictors is low enough that it is very unlikely that interaction terms are going to be useful. A simple logit model may be a pretty good fit given the low number of variables. It also has the advantage of retaining scrutability.\n",
    "\n",
    "Below I'm going to:\n",
    " - Begin with the full model with all variables. I'm using statsmodel instead of sklearn because it gives me easy access to summaries of my model. One note here is that statsmod does true logistic regression, where sklearn uses l2 peanalizatoin by default. So the results may be slightly different.\n",
    " - I'll evaluate variables with their z-values and associated p-values and decide which to drop.\n",
    " - I will use BIC (Bayesian informatoin criterion) as my main measure of model fit, as it penalizes complex models and keeps over-fitting under control.\n",
    " - I could \"automate\" this process with a function for backward selection, but given the small number of variables, I like to be able to go through them manually and decide if what is happening makes substantive sense. \n",
    " - Prefer backwards selection over forward selection because you quickly see if things aren't working (because p-values and coefficients will change wildely when you drop a variable)"
   ]
  },
  {
   "cell_type": "code",
   "execution_count": 337,
   "metadata": {},
   "outputs": [
    {
     "name": "stdout",
     "output_type": "stream",
     "text": [
      "Optimization terminated successfully.\n",
      "         Current function value: 0.460103\n",
      "         Iterations 6\n",
      "                           Logit Regression Results                           \n",
      "==============================================================================\n",
      "Dep. Variable:           zeta_disease   No. Observations:                  429\n",
      "Model:                          Logit   Df Residuals:                      420\n",
      "Method:                           MLE   Df Model:                            8\n",
      "Date:                Sat, 16 Apr 2022   Pseudo R-squ.:                  0.2772\n",
      "Time:                        10:15:05   Log-Likelihood:                -197.38\n",
      "converged:                       True   LL-Null:                       -273.06\n",
      "Covariance Type:            nonrobust   LLR p-value:                 1.020e-28\n",
      "======================================================================================\n",
      "                         coef    std err          z      P>|z|      [0.025      0.975]\n",
      "--------------------------------------------------------------------------------------\n",
      "const                -10.5457      1.184     -8.908      0.000     -12.866      -8.225\n",
      "age                    0.0255      0.009      2.835      0.005       0.008       0.043\n",
      "weight                 0.0305      0.005      6.759      0.000       0.022       0.039\n",
      "bmi                    0.0436      0.017      2.574      0.010       0.010       0.077\n",
      "blood_pressure         0.0032      0.009      0.350      0.726      -0.015       0.021\n",
      "insulin_test           0.0006      0.001      0.554      0.580      -0.001       0.003\n",
      "liver_stress_test      1.1339      0.386      2.934      0.003       0.377       1.891\n",
      "cardio_stress_test     0.0148      0.008      1.917      0.055      -0.000       0.030\n",
      "years_smoking          0.0556      0.027      2.072      0.038       0.003       0.108\n",
      "======================================================================================\n",
      "BIC: 449.32114119896335\n"
     ]
    }
   ],
   "source": [
    "full_mod = sm.Logit(y_train,x_train).fit()\n",
    "print(full_mod.summary())\n",
    "print(\"BIC:\",full_mod.bic)\n"
   ]
  },
  {
   "cell_type": "markdown",
   "metadata": {},
   "source": [
    "Liver_stress_test is a poor predictor, as is the insulin_test. We'll remove those"
   ]
  },
  {
   "cell_type": "code",
   "execution_count": 338,
   "metadata": {},
   "outputs": [
    {
     "name": "stdout",
     "output_type": "stream",
     "text": [
      "Optimization terminated successfully.\n",
      "         Current function value: 0.471738\n",
      "         Iterations 6\n",
      "                           Logit Regression Results                           \n",
      "==============================================================================\n",
      "Dep. Variable:           zeta_disease   No. Observations:                  429\n",
      "Model:                          Logit   Df Residuals:                      422\n",
      "Method:                           MLE   Df Model:                            6\n",
      "Date:                Sat, 16 Apr 2022   Pseudo R-squ.:                  0.2589\n",
      "Time:                        10:15:05   Log-Likelihood:                -202.38\n",
      "converged:                       True   LL-Null:                       -273.06\n",
      "Covariance Type:            nonrobust   LLR p-value:                 5.129e-28\n",
      "======================================================================================\n",
      "                         coef    std err          z      P>|z|      [0.025      0.975]\n",
      "--------------------------------------------------------------------------------------\n",
      "const                -10.1599      1.135     -8.955      0.000     -12.384      -7.936\n",
      "age                    0.0253      0.009      2.909      0.004       0.008       0.042\n",
      "weight                 0.0320      0.004      7.736      0.000       0.024       0.040\n",
      "bmi                    0.0482      0.017      2.846      0.004       0.015       0.081\n",
      "blood_pressure         0.0017      0.009      0.186      0.853      -0.016       0.019\n",
      "cardio_stress_test     0.0162      0.008      2.074      0.038       0.001       0.031\n",
      "years_smoking          0.0605      0.027      2.255      0.024       0.008       0.113\n",
      "======================================================================================\n",
      "BIC: 447.18102003674903\n"
     ]
    }
   ],
   "source": [
    "x_train = x_train.drop([\"insulin_test\",\"liver_stress_test\"],axis=1)\n",
    "\n",
    "reduced_mod_1 = sm.Logit(y_train,x_train).fit()\n",
    "print(reduced_mod_1.summary())\n",
    "print(\"BIC:\",reduced_mod_1.bic)\n"
   ]
  },
  {
   "cell_type": "markdown",
   "metadata": {},
   "source": [
    "This model does improve the BIC, and makes blood_pressure highly insignificant."
   ]
  },
  {
   "cell_type": "code",
   "execution_count": 339,
   "metadata": {},
   "outputs": [
    {
     "name": "stdout",
     "output_type": "stream",
     "text": [
      "Optimization terminated successfully.\n",
      "         Current function value: 0.471778\n",
      "         Iterations 6\n",
      "                           Logit Regression Results                           \n",
      "==============================================================================\n",
      "Dep. Variable:           zeta_disease   No. Observations:                  429\n",
      "Model:                          Logit   Df Residuals:                      423\n",
      "Method:                           MLE   Df Model:                            5\n",
      "Date:                Sat, 16 Apr 2022   Pseudo R-squ.:                  0.2588\n",
      "Time:                        10:15:05   Log-Likelihood:                -202.39\n",
      "converged:                       True   LL-Null:                       -273.06\n",
      "Covariance Type:            nonrobust   LLR p-value:                 9.267e-29\n",
      "======================================================================================\n",
      "                         coef    std err          z      P>|z|      [0.025      0.975]\n",
      "--------------------------------------------------------------------------------------\n",
      "const                -10.0752      1.036     -9.722      0.000     -12.106      -8.044\n",
      "age                    0.0255      0.009      2.961      0.003       0.009       0.042\n",
      "weight                 0.0320      0.004      7.745      0.000       0.024       0.040\n",
      "bmi                    0.0486      0.017      2.900      0.004       0.016       0.081\n",
      "cardio_stress_test     0.0163      0.008      2.092      0.036       0.001       0.032\n",
      "years_smoking          0.0608      0.027      2.263      0.024       0.008       0.113\n",
      "======================================================================================\n",
      "BIC: 441.15385093675314\n"
     ]
    }
   ],
   "source": [
    "x_train = x_train.drop([\"blood_pressure\"],axis=1)\n",
    "\n",
    "\n",
    "reduced_mod_2 = sm.Logit(y_train,x_train).fit()\n",
    "print(reduced_mod_2.summary())\n",
    "print(\"BIC:\",reduced_mod_2.bic)"
   ]
  },
  {
   "cell_type": "markdown",
   "metadata": {},
   "source": [
    "We now see that everything is fairly significant; we may want to check a couple of interaction terms to see if they make a big different. Interactions should really only be included if they \"make sense\" in my opinion, so I'll only test a couple:\n",
    "\n",
    "- cardio_stress_test*years_smoking\n",
    "- age*weight\n",
    "- weight*bmi"
   ]
  },
  {
   "cell_type": "code",
   "execution_count": 340,
   "metadata": {},
   "outputs": [
    {
     "name": "stdout",
     "output_type": "stream",
     "text": [
      "Optimization terminated successfully.\n",
      "         Current function value: 0.459208\n",
      "         Iterations 7\n",
      "                           Logit Regression Results                           \n",
      "==============================================================================\n",
      "Dep. Variable:           zeta_disease   No. Observations:                  429\n",
      "Model:                          Logit   Df Residuals:                      420\n",
      "Method:                           MLE   Df Model:                            8\n",
      "Date:                Sat, 16 Apr 2022   Pseudo R-squ.:                  0.2786\n",
      "Time:                        10:15:05   Log-Likelihood:                -197.00\n",
      "converged:                       True   LL-Null:                       -273.06\n",
      "Covariance Type:            nonrobust   LLR p-value:                 7.051e-29\n",
      "======================================================================================\n",
      "                         coef    std err          z      P>|z|      [0.025      0.975]\n",
      "--------------------------------------------------------------------------------------\n",
      "const                 -7.4540      3.731     -1.998      0.046     -14.766      -0.142\n",
      "age                   -0.1415      0.067     -2.104      0.035      -0.273      -0.010\n",
      "weight                 0.0167      0.021      0.799      0.424      -0.024       0.058\n",
      "bmi                    0.1213      0.093      1.298      0.194      -0.062       0.305\n",
      "cardio_stress_test     0.0128      0.011      1.185      0.236      -0.008       0.034\n",
      "years_smoking         -0.0140      0.135     -0.103      0.918      -0.279       0.251\n",
      "weight*age             0.0010      0.000      2.630      0.009       0.000       0.002\n",
      "cardio*smoking         0.0010      0.002      0.391      0.696      -0.004       0.006\n",
      "weight*bmi            -0.0004      0.001     -0.766      0.444      -0.001       0.001\n",
      "======================================================================================\n",
      "BIC: 448.55329134265287\n"
     ]
    }
   ],
   "source": [
    "x_train[\"weight*age\"] = x_train[\"weight\"] * x_train[\"age\"]\n",
    "x_train['cardio*smoking'] = x_train[\"cardio_stress_test\"] * x_train[\"years_smoking\"]\n",
    "x_train[\"weight*bmi\"] = x_train[\"weight\"] * x_train[\"bmi\"]\n",
    "\n",
    "reduced_mod_3 = sm.Logit(y_train,x_train).fit()\n",
    "print(reduced_mod_3.summary())\n",
    "print(\"BIC:\",reduced_mod_3.bic)"
   ]
  },
  {
   "cell_type": "markdown",
   "metadata": {},
   "source": [
    "Weight and age is close, but the other two are clearly not significant, so I'll drop those again."
   ]
  },
  {
   "cell_type": "code",
   "execution_count": 341,
   "metadata": {},
   "outputs": [
    {
     "name": "stdout",
     "output_type": "stream",
     "text": [
      "Optimization terminated successfully.\n",
      "         Current function value: 0.466548\n",
      "         Iterations 7\n",
      "                           Logit Regression Results                           \n",
      "==============================================================================\n",
      "Dep. Variable:           zeta_disease   No. Observations:                  429\n",
      "Model:                          Logit   Df Residuals:                      424\n",
      "Method:                           MLE   Df Model:                            4\n",
      "Date:                Sat, 16 Apr 2022   Pseudo R-squ.:                  0.2670\n",
      "Time:                        10:15:05   Log-Likelihood:                -200.15\n",
      "converged:                       True   LL-Null:                       -273.06\n",
      "Covariance Type:            nonrobust   LLR p-value:                 1.592e-30\n",
      "==============================================================================\n",
      "                 coef    std err          z      P>|z|      [0.025      0.975]\n",
      "------------------------------------------------------------------------------\n",
      "const         -4.3470      1.791     -2.428      0.015      -7.857      -0.837\n",
      "age           -0.1487      0.059     -2.504      0.012      -0.265      -0.032\n",
      "weight         0.0008      0.010      0.078      0.938      -0.019       0.021\n",
      "bmi            0.0598      0.016      3.707      0.000       0.028       0.091\n",
      "weight*age     0.0011      0.000      3.202      0.001       0.000       0.002\n",
      "==============================================================================\n",
      "BIC: 430.6058637192311\n"
     ]
    }
   ],
   "source": [
    "x_train = x_train.drop([\"cardio*smoking\"],axis=1)\n",
    "x_train = x_train.drop([\"weight*bmi\"],axis=1)\n",
    "x_train = x_train.drop([\"cardio_stress_test\"],axis=1)\n",
    "x_train = x_train.drop([\"years_smoking\"],axis=1)\n",
    "\n",
    "final_mod = sm.Logit(y_train,x_train).fit()\n",
    "print(final_mod.summary())\n",
    "print(\"BIC:\",final_mod.bic)"
   ]
  },
  {
   "cell_type": "markdown",
   "metadata": {},
   "source": [
    "This model makes a lot of sense. Weight is now insignificant because the interaction is significant (but we should always leave base terms from an interaction!). I also removed a couple more variables (smoking and cardio test, that were insignificant. This improved our BIC fairly substantially). I felt this document was getting long so didn't inlude this as a sperate step."
   ]
  },
  {
   "cell_type": "markdown",
   "metadata": {},
   "source": []
  },
  {
   "cell_type": "markdown",
   "metadata": {},
   "source": [
    "This looks like a good final model. All very significant and the lowest BIC\n",
    "\n",
    "The code below outputs predictions for the 20 test data points. I'm leaving them in probability format. We could turn these into \"hard predictions\" based on a cutoff. However, the cutoff to choose is dependant on disease prevalance in the population, allocation of treatement resources etc. An ROC curve would give us some practical emperical informatoin about what a good cutoff may be, but more information from shareholders would be needed to make this decision. "
   ]
  },
  {
   "cell_type": "code",
   "execution_count": 342,
   "metadata": {},
   "outputs": [
    {
     "name": "stdout",
     "output_type": "stream",
     "text": [
      "Predictions for our twenty points:\n"
     ]
    },
    {
     "data": {
      "text/plain": [
       "0     0.197081\n",
       "1     0.326439\n",
       "2     0.107027\n",
       "3     0.637321\n",
       "4     0.823151\n",
       "5     0.059703\n",
       "6     0.137620\n",
       "7     0.092008\n",
       "8     0.520380\n",
       "9     0.197771\n",
       "10    0.899786\n",
       "11    0.639679\n",
       "12    0.274721\n",
       "13    0.781897\n",
       "14    0.403336\n",
       "15    0.811077\n",
       "16    0.521914\n",
       "17    0.750861\n",
       "18    0.365160\n",
       "19    0.570245\n",
       "dtype: float64"
      ]
     },
     "execution_count": 342,
     "metadata": {},
     "output_type": "execute_result"
    }
   ],
   "source": [
    "test_dat = pd.read_csv(\"recruiting_zeta-disease_prediction-data_take-home-challenge - 2021-01-21_zeta-disease_prediction-data_take-home-challenge.csv\")\n",
    "x_test = test_dat.iloc[:,0:3]\n",
    "x_test[\"weight*age\"] = x_test[\"weight\"] * x_test[\"age\"]\n",
    "x_test = sm.add_constant(x_test)\n",
    "x_test\n",
    "\n",
    "print(\"Predictions for our twenty points:\")\n",
    "final_mod.predict(x_test)\n"
   ]
  }
 ],
 "metadata": {
  "interpreter": {
   "hash": "d9295f72999710eef6caa32d71bac236225f0a5b7104972ccef3ccc3200c9ef7"
  },
  "kernelspec": {
   "display_name": "Python 3.9.7 64-bit",
   "language": "python",
   "name": "python3"
  },
  "language_info": {
   "codemirror_mode": {
    "name": "ipython",
    "version": 3
   },
   "file_extension": ".py",
   "mimetype": "text/x-python",
   "name": "python",
   "nbconvert_exporter": "python",
   "pygments_lexer": "ipython3",
   "version": "3.9.7"
  },
  "orig_nbformat": 4
 },
 "nbformat": 4,
 "nbformat_minor": 2
}
