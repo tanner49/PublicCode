{
 "cells": [
  {
   "cell_type": "code",
   "execution_count": 38,
   "metadata": {},
   "outputs": [],
   "source": [
    "import pandas as pd\n",
    "import seaborn as sns\n",
    "import statsmodels as sm"
   ]
  },
  {
   "cell_type": "code",
   "execution_count": 39,
   "metadata": {},
   "outputs": [],
   "source": [
    "train_dat = pd.read_csv(\"recruiting_zeta-disease_training-data_take-home-challenge - 2021_zeta-disease_training-data_take-home-challenge.csv\")\n",
    "x_train = train_dat.iloc[:,0:8]\n",
    "y_train = train_dat[\"zeta_disease\"]"
   ]
  },
  {
   "cell_type": "code",
   "execution_count": 40,
   "metadata": {},
   "outputs": [
    {
     "data": {
      "text/plain": [
       "[Text(0.5, 0, 'age'),\n",
       " Text(1.5, 0, 'weight'),\n",
       " Text(2.5, 0, 'bmi'),\n",
       " Text(3.5, 0, 'blood_pressure'),\n",
       " Text(4.5, 0, 'insulin_test'),\n",
       " Text(5.5, 0, 'liver_stress_test'),\n",
       " Text(6.5, 0, 'cardio_stress_test'),\n",
       " Text(7.5, 0, 'years_smoking'),\n",
       " Text(8.5, 0, 'zeta_disease')]"
      ]
     },
     "execution_count": 40,
     "metadata": {},
     "output_type": "execute_result"
    },
    {
     "data": {
      "image/png": "[encoded data removed]",
      "text/plain": [
       "<Figure size 432x288 with 2 Axes>"
      ]
     },
     "metadata": {
      "needs_background": "light"
     },
     "output_type": "display_data"
    }
   ],
   "source": [
    "corr = train_dat.corr()\n",
    "ax = sns.heatmap(\n",
    "    corr, \n",
    "    vmin=-1, vmax=1, center=0,\n",
    "    cmap=sns.diverging_palette(20, 220, n=200),\n",
    "    square=True\n",
    ")\n",
    "ax.set_xticklabels(\n",
    "    ax.get_xticklabels(),\n",
    "    rotation=45,\n",
    "    horizontalalignment='right'\n",
    ")"
   ]
  },
  {
   "cell_type": "markdown",
   "metadata": {},
   "source": [
    "The initial exploration of the data suggests some moderate correlations with a number of variables, especially weight and bmi. Nothing stands out as particularly troublesome as far as covaraince between predictors. The covariance between predictors is low enough that it is very unlikely that interaction terms are going to be useful. A simple logit model may be a pretty good fit given the low number of variables. It also has the advantage of retaining scrutability.\n",
    "\n",
    "Below I'm going to:\n",
    " - Begin with the full model with all variables. I'm using statsmodel instead of sklearn because it gives me easy access to summaries of my model. One note here is that statsmod does true logistic regression, where sklearn uses l2 peanalizatoin by default. So the results may be slightly different.\n",
    " - I'll evaluate variables with their z-values and associated p-values and decide which to drop.\n",
    " - I will use BIC (Bayesian informatoin criterion) as my main measure of model fit, as it penalizes complex models and keeps over-fitting under control.\n",
    " - I could \"automate\" this process with a function for backward selection, but given the small number of variables, I like to be able to go through them manually and decide if what is happening makes substantive sense. \n",
    " - Prefer backwards selection over forward selection because you quickly see if things aren't working (because p-values and coefficients will change wildely when you drop a variable)"
   ]
  },
  {
   "cell_type": "code",
   "execution_count": 41,
   "metadata": {},
   "outputs": [
    {
     "name": "stdout",
     "output_type": "stream",
     "text": [
      "Optimization terminated successfully.\n",
      "         Current function value: 0.622737\n",
      "         Iterations 5\n",
      "                           Logit Regression Results                           \n",
      "==============================================================================\n",
      "Dep. Variable:           zeta_disease   No. Observations:                  800\n",
      "Model:                          Logit   Df Residuals:                      792\n",
      "Method:                           MLE   Df Model:                            7\n",
      "Date:                Thu, 14 Apr 2022   Pseudo R-squ.:                 0.03701\n",
      "Time:                        20:49:54   Log-Likelihood:                -498.19\n",
      "converged:                       True   LL-Null:                       -517.34\n",
      "Covariance Type:            nonrobust   LLR p-value:                 2.667e-06\n",
      "======================================================================================\n",
      "                         coef    std err          z      P>|z|      [0.025      0.975]\n",
      "--------------------------------------------------------------------------------------\n",
      "age                    0.0014      0.006      0.230      0.818      -0.011       0.014\n",
      "weight                 0.0035      0.002      1.786      0.074      -0.000       0.007\n",
      "bmi                    0.0083      0.009      0.887      0.375      -0.010       0.027\n",
      "blood_pressure        -0.0266      0.004     -6.027      0.000      -0.035      -0.018\n",
      "insulin_test           0.0016      0.001      2.305      0.021       0.000       0.003\n",
      "liver_stress_test      0.3863      0.221      1.751      0.080      -0.046       0.819\n",
      "cardio_stress_test    -0.0050      0.003     -1.703      0.089      -0.011       0.001\n",
      "years_smoking          0.0736      0.022      3.296      0.001       0.030       0.117\n",
      "======================================================================================\n",
      "BIC: 1049.856807085862\n"
     ]
    }
   ],
   "source": [
    "full_mod = sm.api.Logit(y_train,x_train).fit()\n",
    "print(full_mod.summary())\n",
    "print(\"BIC:\",full_mod.bic)\n"
   ]
  },
  {
   "cell_type": "markdown",
   "metadata": {},
   "source": [
    "Clearly age is not a good predictory. Additionaly, BMI is a poor predictor, and may be stealing significance from weight (with BMI being linear dependant on weight and height). Removing these two variables should mix things up."
   ]
  },
  {
   "cell_type": "code",
   "execution_count": 42,
   "metadata": {},
   "outputs": [
    {
     "name": "stdout",
     "output_type": "stream",
     "text": [
      "Optimization terminated successfully.\n",
      "         Current function value: 0.623270\n",
      "         Iterations 5\n",
      "                           Logit Regression Results                           \n",
      "==============================================================================\n",
      "Dep. Variable:           zeta_disease   No. Observations:                  800\n",
      "Model:                          Logit   Df Residuals:                      794\n",
      "Method:                           MLE   Df Model:                            5\n",
      "Date:                Thu, 14 Apr 2022   Pseudo R-squ.:                 0.03618\n",
      "Time:                        20:49:54   Log-Likelihood:                -498.62\n",
      "converged:                       True   LL-Null:                       -517.34\n",
      "Covariance Type:            nonrobust   LLR p-value:                 4.892e-07\n",
      "======================================================================================\n",
      "                         coef    std err          z      P>|z|      [0.025      0.975]\n",
      "--------------------------------------------------------------------------------------\n",
      "weight                 0.0045      0.002      2.694      0.007       0.001       0.008\n",
      "blood_pressure        -0.0250      0.004     -6.296      0.000      -0.033      -0.017\n",
      "insulin_test           0.0016      0.001      2.300      0.021       0.000       0.003\n",
      "liver_stress_test      0.4028      0.220      1.832      0.067      -0.028       0.834\n",
      "cardio_stress_test    -0.0045      0.003     -1.573      0.116      -0.010       0.001\n",
      "years_smoking          0.0760      0.021      3.656      0.000       0.035       0.117\n",
      "======================================================================================\n",
      "BIC: 1037.3402613967653\n"
     ]
    }
   ],
   "source": [
    "x_train = x_train.drop([\"bmi\",\"age\"],axis=1)\n",
    "\n",
    "reduced_mod_1 = sm.api.Logit(y_train,x_train).fit()\n",
    "print(reduced_mod_1.summary())\n",
    "print(\"BIC:\",reduced_mod_1.bic)\n"
   ]
  },
  {
   "cell_type": "markdown",
   "metadata": {},
   "source": [
    "This model does improve the aic, suggesting it is a more parsimonious model. We now see years smoking, weigh, and blood preassure as clear standouts. cardio and liver stress tests are non-significant, however, liver_stress_test is only marginally insignificant at the (arbitrary) .05 cutoff, so we will only drop cardio stress test this round and see what happens. "
   ]
  },
  {
   "cell_type": "code",
   "execution_count": 43,
   "metadata": {},
   "outputs": [
    {
     "name": "stdout",
     "output_type": "stream",
     "text": [
      "Optimization terminated successfully.\n",
      "         Current function value: 0.624835\n",
      "         Iterations 5\n",
      "                           Logit Regression Results                           \n",
      "==============================================================================\n",
      "Dep. Variable:           zeta_disease   No. Observations:                  800\n",
      "Model:                          Logit   Df Residuals:                      795\n",
      "Method:                           MLE   Df Model:                            4\n",
      "Date:                Thu, 14 Apr 2022   Pseudo R-squ.:                 0.03376\n",
      "Time:                        20:49:55   Log-Likelihood:                -499.87\n",
      "converged:                       True   LL-Null:                       -517.34\n",
      "Covariance Type:            nonrobust   LLR p-value:                 4.792e-07\n",
      "=====================================================================================\n",
      "                        coef    std err          z      P>|z|      [0.025      0.975]\n",
      "-------------------------------------------------------------------------------------\n",
      "weight                0.0044      0.002      2.644      0.008       0.001       0.008\n",
      "blood_pressure       -0.0268      0.004     -6.987      0.000      -0.034      -0.019\n",
      "insulin_test          0.0011      0.001      1.860      0.063   -6.15e-05       0.002\n",
      "liver_stress_test     0.3507      0.216      1.621      0.105      -0.073       0.775\n",
      "years_smoking         0.0790      0.021      3.802      0.000       0.038       0.120\n",
      "=====================================================================================\n",
      "BIC: 1033.1597585381737\n"
     ]
    }
   ],
   "source": [
    "x_train = x_train.drop([\"cardio_stress_test\"],axis=1)\n",
    "\n",
    "reduced_mod_2 = sm.api.Logit(y_train,x_train).fit()\n",
    "print(reduced_mod_2.summary())\n",
    "print(\"BIC:\",reduced_mod_2.bic)"
   ]
  },
  {
   "cell_type": "markdown",
   "metadata": {},
   "source": [
    "This model actually does marginally worse as measured by BIC. However, it now becomes clear that our stress tests are measures of our \"true\" causal variables:\n",
    "\n",
    "- Liver measures smoking\n",
    "- Insulin measures weight\n",
    "- Cardio measures some combindation of weight/blood preassure/ and smoking\n",
    "\n",
    "So, we drop these distractors and focus in on the simpler model of direct measures of health."
   ]
  },
  {
   "cell_type": "code",
   "execution_count": 44,
   "metadata": {},
   "outputs": [
    {
     "name": "stdout",
     "output_type": "stream",
     "text": [
      "Optimization terminated successfully.\n",
      "         Current function value: 0.629132\n",
      "         Iterations 5\n",
      "                           Logit Regression Results                           \n",
      "==============================================================================\n",
      "Dep. Variable:           zeta_disease   No. Observations:                  800\n",
      "Model:                          Logit   Df Residuals:                      797\n",
      "Method:                           MLE   Df Model:                            2\n",
      "Date:                Thu, 14 Apr 2022   Pseudo R-squ.:                 0.02712\n",
      "Time:                        20:49:55   Log-Likelihood:                -503.31\n",
      "converged:                       True   LL-Null:                       -517.34\n",
      "Covariance Type:            nonrobust   LLR p-value:                 8.072e-07\n",
      "==================================================================================\n",
      "                     coef    std err          z      P>|z|      [0.025      0.975]\n",
      "----------------------------------------------------------------------------------\n",
      "weight             0.0061      0.002      3.962      0.000       0.003       0.009\n",
      "blood_pressure    -0.0265      0.004     -6.917      0.000      -0.034      -0.019\n",
      "years_smoking      0.0750      0.020      3.717      0.000       0.035       0.114\n",
      "==================================================================================\n",
      "BIC: 1026.6654817944006\n"
     ]
    }
   ],
   "source": [
    "x_train = x_train.drop([\"liver_stress_test\",\"insulin_test\"],axis=1)\n",
    "\n",
    "final_mod = sm.api.Logit(y_train,x_train).fit()\n",
    "print(final_mod.summary())\n",
    "print(\"BIC:\",final_mod.bic)"
   ]
  },
  {
   "cell_type": "markdown",
   "metadata": {},
   "source": [
    "Our BIC is substantially improved here, and this model intuitvely makes sense as it uses the underlying medical conditions, not noisy measurements of those conditions. The code below outputs predictions for the 20 test data points. I'm leaving them in probability format. We could turn these into \"hard predictions\" based on a cutoff. However, the cutoff to choose is dependant on disease prevalance in the population, allocation of treatement resources etc. An ROC curve would give us some practical emperical informatoin about what a good cutoff may be, but more information from shareholders would be needed to make this decision. "
   ]
  },
  {
   "cell_type": "code",
   "execution_count": 45,
   "metadata": {},
   "outputs": [
    {
     "name": "stdout",
     "output_type": "stream",
     "text": [
      "Predictions for our twenty points:\n"
     ]
    },
    {
     "data": {
      "text/plain": [
       "0     0.351487\n",
       "1     0.305167\n",
       "2     0.274420\n",
       "3     0.441616\n",
       "4     0.550564\n",
       "5     0.225274\n",
       "6     0.366273\n",
       "7     0.377731\n",
       "8     0.517437\n",
       "9     0.303628\n",
       "10    0.495156\n",
       "11    0.403752\n",
       "12    0.250105\n",
       "13    0.390251\n",
       "14    0.270581\n",
       "15    0.583505\n",
       "16    0.242845\n",
       "17    0.572558\n",
       "18    0.398273\n",
       "19    0.183926\n",
       "dtype: float64"
      ]
     },
     "execution_count": 45,
     "metadata": {},
     "output_type": "execute_result"
    }
   ],
   "source": [
    "test_dat = pd.read_csv(\"recruiting_zeta-disease_prediction-data_take-home-challenge - 2021-01-21_zeta-disease_prediction-data_take-home-challenge.csv\")\n",
    "x_test = test_dat[[\"weight\",\"blood_pressure\",\"years_smoking\"]]\n",
    "print(\"Predictions for our twenty points:\")\n",
    "final_mod.predict(x_test)"
   ]
  }
 ],
 "metadata": {
  "interpreter": {
   "hash": "d9295f72999710eef6caa32d71bac236225f0a5b7104972ccef3ccc3200c9ef7"
  },
  "kernelspec": {
   "display_name": "Python 3.9.7 64-bit",
   "language": "python",
   "name": "python3"
  },
  "language_info": {
   "codemirror_mode": {
    "name": "ipython",
    "version": 3
   },
   "file_extension": ".py",
   "mimetype": "text/x-python",
   "name": "python",
   "nbconvert_exporter": "python",
   "pygments_lexer": "ipython3",
   "version": "3.9.7"
  },
  "orig_nbformat": 4
 },
 "nbformat": 4,
 "nbformat_minor": 2
}
